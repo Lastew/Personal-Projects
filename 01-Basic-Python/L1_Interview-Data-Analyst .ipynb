{
 "cells": [
  {
   "cell_type": "code",
   "execution_count": null,
   "metadata": {},
   "outputs": [],
   "source": [
    "# elbow method for k-means clustering\n",
    "cost = list()\n",
    "for i in range(1, 11):\n",
    "    km = Kmeans(n_clusters=i, max_iter=500)\n",
    "    km.fit(X)\n",
    "    # calucates squared error \n",
    "    # for the clusterd points \n",
    "    cost.append(km.inertia_)\n",
    "# plot the cost against K Values \n",
    "plt.plot(range(1,11), cost, color='g', linewidth='3')\n",
    "plt.xlabel('Value of K')\n",
    "plt.ylabel('Squared Error (Cost)')\n",
    "plt.show()"
   ]
  }
 ],
 "metadata": {
  "kernelspec": {
   "display_name": "Python 3",
   "language": "python",
   "name": "python3"
  },
  "language_info": {
   "codemirror_mode": {
    "name": "ipython",
    "version": 3
   },
   "file_extension": ".py",
   "mimetype": "text/x-python",
   "name": "python",
   "nbconvert_exporter": "python",
   "pygments_lexer": "ipython3",
   "version": "3.7.3"
  },
  "toc": {
   "base_numbering": 1,
   "nav_menu": {},
   "number_sections": true,
   "sideBar": true,
   "skip_h1_title": false,
   "title_cell": "Table of Contents",
   "title_sidebar": "Contents",
   "toc_cell": false,
   "toc_position": {},
   "toc_section_display": true,
   "toc_window_display": false
  }
 },
 "nbformat": 4,
 "nbformat_minor": 2
}
