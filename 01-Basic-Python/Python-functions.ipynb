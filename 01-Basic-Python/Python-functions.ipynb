{
 "cells": [
  {
   "cell_type": "markdown",
   "metadata": {},
   "source": [
    "## Palindrome"
   ]
  },
  {
   "cell_type": "code",
   "execution_count": 8,
   "metadata": {
    "ExecuteTime": {
     "end_time": "2020-02-17T19:24:28.198871Z",
     "start_time": "2020-02-17T19:24:28.191595Z"
    }
   },
   "outputs": [],
   "source": [
    "# Set up \n",
    "def isPalindrome(word):\n",
    "    # keep track of start and end of word\n",
    "    start = 0\n",
    "    end = len(word)\n",
    "    # compare each pair of characters in the string \n",
    "    while end > start:\n",
    "        # get the characters we want to check\n",
    "        startChar = word[start]\n",
    "        endChar = word[end-1]\n",
    "        # compare characters \n",
    "        if startChar != endChar:\n",
    "            return False\n",
    "        \n",
    "        # go to the next 2 characters \n",
    "        start += 1\n",
    "        end -= 1\n",
    "    # if reach here then word is a palindrome \n",
    "    return True    "
   ]
  },
  {
   "cell_type": "code",
   "execution_count": 11,
   "metadata": {
    "ExecuteTime": {
     "end_time": "2020-02-17T19:25:39.964055Z",
     "start_time": "2020-02-17T19:25:39.957135Z"
    }
   },
   "outputs": [
    {
     "name": "stdout",
     "output_type": "stream",
     "text": [
      "True\n",
      "False\n"
     ]
    }
   ],
   "source": [
    "print(isPalindrome('racecar'))\n",
    "print(isPalindrome('indeed'))"
   ]
  },
  {
   "cell_type": "markdown",
   "metadata": {},
   "source": [
    "## Multi-Palindrome"
   ]
  },
  {
   "cell_type": "code",
   "execution_count": 20,
   "metadata": {
    "ExecuteTime": {
     "end_time": "2020-02-17T19:33:45.326800Z",
     "start_time": "2020-02-17T19:33:45.321573Z"
    }
   },
   "outputs": [],
   "source": [
    "import re\n",
    "def isWordPalindrome(sentence):\n",
    "    lowercase = sentence.lower()\n",
    "    letterOnly = re.sub(r'[^a-zA-Z]', \"\", lowercase)\n",
    "    \n",
    "    return isPalindrome(letterOnly)"
   ]
  },
  {
   "cell_type": "code",
   "execution_count": 26,
   "metadata": {
    "ExecuteTime": {
     "end_time": "2020-02-17T19:36:52.056177Z",
     "start_time": "2020-02-17T19:36:52.048194Z"
    }
   },
   "outputs": [
    {
     "name": "stdout",
     "output_type": "stream",
     "text": [
      "True\n"
     ]
    }
   ],
   "source": [
    "sent = \"A man, a plan, a canal, panama\"\n",
    "print(isWordPalindrome(sent))"
   ]
  },
  {
   "cell_type": "markdown",
   "metadata": {
    "ExecuteTime": {
     "end_time": "2020-02-17T19:29:15.014053Z",
     "start_time": "2020-02-17T19:29:15.006697Z"
    }
   },
   "source": [
    "## Others"
   ]
  },
  {
   "cell_type": "code",
   "execution_count": null,
   "metadata": {},
   "outputs": [],
   "source": []
  }
 ],
 "metadata": {
  "kernelspec": {
   "display_name": "Python 3",
   "language": "python",
   "name": "python3"
  },
  "language_info": {
   "codemirror_mode": {
    "name": "ipython",
    "version": 3
   },
   "file_extension": ".py",
   "mimetype": "text/x-python",
   "name": "python",
   "nbconvert_exporter": "python",
   "pygments_lexer": "ipython3",
   "version": "3.7.3"
  },
  "toc": {
   "base_numbering": 1,
   "nav_menu": {},
   "number_sections": true,
   "sideBar": true,
   "skip_h1_title": false,
   "title_cell": "Table of Contents",
   "title_sidebar": "Contents",
   "toc_cell": false,
   "toc_position": {},
   "toc_section_display": true,
   "toc_window_display": false
  }
 },
 "nbformat": 4,
 "nbformat_minor": 2
}
