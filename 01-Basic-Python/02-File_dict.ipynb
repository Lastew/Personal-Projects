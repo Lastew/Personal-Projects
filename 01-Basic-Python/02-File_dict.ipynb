{
 "cells": [
  {
   "cell_type": "code",
   "execution_count": 11,
   "metadata": {
    "ExecuteTime": {
     "end_time": "2019-12-31T05:14:44.844771Z",
     "start_time": "2019-12-31T05:14:44.836598Z"
    }
   },
   "outputs": [
    {
     "name": "stdout",
     "output_type": "stream",
     "text": [
      "536\n"
     ]
    }
   ],
   "source": [
    "fileref = open(\"school_prompt.txt\", \"r\")\n",
    "num_count = fileref.read()\n",
    "for i in num_count:\n",
    "#     print(i)\n",
    "print(len(num_count))\n",
    "fileref.close()\n",
    "# num_count"
   ]
  },
  {
   "cell_type": "code",
   "execution_count": 14,
   "metadata": {
    "ExecuteTime": {
     "end_time": "2019-12-31T05:24:56.305900Z",
     "start_time": "2019-12-31T05:24:56.294326Z"
    }
   },
   "outputs": [
    {
     "data": {
      "text/plain": [
       "40"
      ]
     },
     "execution_count": 14,
     "metadata": {},
     "output_type": "execute_result"
    }
   ],
   "source": [
    "len(num_count[0:40])"
   ]
  },
  {
   "cell_type": "code",
   "execution_count": 19,
   "metadata": {
    "ExecuteTime": {
     "end_time": "2019-12-31T05:28:35.469550Z",
     "start_time": "2019-12-31T05:28:35.435390Z"
    }
   },
   "outputs": [
    {
     "name": "stdout",
     "output_type": "stream",
     "text": [
      "10\n",
      "Writing essays for school can be difficult but\n",
      "many students find that by researching their topic that they\n",
      "have more to say and are better informed. Here are the university\n",
      "we require many undergraduate students to take a first year writing requirement\n",
      "so that they can\n",
      "have a solid foundation for their writing skills. This comes\n",
      "in handy for many students.\n",
      "Different schools have different requirements, but everyone uses\n",
      "writing at some point in their academic career, be it essays, research papers,\n",
      "technical write ups, or scripts.\n"
     ]
    }
   ],
   "source": [
    "fileref = open(\"school_prompt.txt\", \"r\")\n",
    "lins = fileref.readlines()\n",
    "print(len(lins))\n",
    "for line in lins:\n",
    "    print(line.strip())\n",
    "fileref.close()"
   ]
  },
  {
   "cell_type": "code",
   "execution_count": null,
   "metadata": {},
   "outputs": [],
   "source": []
  }
 ],
 "metadata": {
  "kernelspec": {
   "display_name": "Python 3",
   "language": "python",
   "name": "python3"
  },
  "language_info": {
   "codemirror_mode": {
    "name": "ipython",
    "version": 3
   },
   "file_extension": ".py",
   "mimetype": "text/x-python",
   "name": "python",
   "nbconvert_exporter": "python",
   "pygments_lexer": "ipython3",
   "version": "3.7.3"
  },
  "toc": {
   "base_numbering": 1,
   "nav_menu": {},
   "number_sections": true,
   "sideBar": true,
   "skip_h1_title": false,
   "title_cell": "Table of Contents",
   "title_sidebar": "Contents",
   "toc_cell": false,
   "toc_position": {},
   "toc_section_display": true,
   "toc_window_display": false
  }
 },
 "nbformat": 4,
 "nbformat_minor": 2
}
