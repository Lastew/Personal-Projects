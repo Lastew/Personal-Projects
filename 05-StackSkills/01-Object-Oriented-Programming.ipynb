{
 "cells": [
  {
   "cell_type": "markdown",
   "metadata": {},
   "source": [
    "<h2>Object Oriented Programing</h2>\n",
    "<ul>\n",
    "    <li>Thinking about Objects</li>\n",
    "    <li>Class</li>\n",
    "    <li>Object</li>\n",
    "    <li>Data (state)</li>\n",
    "    <li>Actions (behaviour)</li>\n",
    "    <li>Encapsulation</li>\n",
    "    <li>Abstraction</li>"
   ]
  },
  {
   "cell_type": "markdown",
   "metadata": {},
   "source": [
    "<h3> Object Oriented Terminology</h3>\n",
    "``` python \n",
    "\n",
    "class plant():  \n",
    "    \n",
    "    name, location, distanceFromSum //data/state/fields  \n",
    "    revolve(), rotate()  //actions/behavior/methods\n",
    "    \n",
    "    earth =    planet()\n",
    "    venus =    planet()\n",
    "```\n",
    "<ul>\n",
    "    <li>class</li>\n",
    "    <li>Objects/Instances</li>\n",
    "    <li>Member Data/State/Fields</li>\n",
    "    <li>Actions/Methods/Behaviour</li>\n",
    "</ul>"
   ]
  },
  {
   "cell_type": "code",
   "execution_count": 1,
   "metadata": {
    "ExecuteTime": {
     "end_time": "2020-01-10T03:53:29.873935Z",
     "start_time": "2020-01-10T03:53:29.869725Z"
    }
   },
   "outputs": [],
   "source": [
    "# class is a template - blue print\n",
    "class Country:\n",
    "    pass"
   ]
  },
  {
   "cell_type": "code",
   "execution_count": 2,
   "metadata": {
    "ExecuteTime": {
     "end_time": "2020-01-10T03:55:18.002069Z",
     "start_time": "2020-01-10T03:55:17.997980Z"
    }
   },
   "outputs": [],
   "source": [
    "india = Country() # object or instances\n",
    "Ethiopia = Country()\n",
    "Germany = Country()"
   ]
  },
  {
   "cell_type": "code",
   "execution_count": 3,
   "metadata": {
    "ExecuteTime": {
     "end_time": "2020-01-10T03:56:22.718854Z",
     "start_time": "2020-01-10T03:56:22.711946Z"
    }
   },
   "outputs": [],
   "source": [
    "india.name = 'India'\n",
    "india.capital = \"New Delhi\"\n",
    "Ethiopia.name = 'Ethiopia'\n",
    "Ethiopia.capital = \"Addis Ababa\""
   ]
  },
  {
   "cell_type": "code",
   "execution_count": 5,
   "metadata": {
    "ExecuteTime": {
     "end_time": "2020-01-10T03:56:45.898742Z",
     "start_time": "2020-01-10T03:56:45.890831Z"
    }
   },
   "outputs": [
    {
     "data": {
      "text/plain": [
       "'Ethiopia'"
      ]
     },
     "execution_count": 5,
     "metadata": {},
     "output_type": "execute_result"
    }
   ],
   "source": [
    "Ethiopia.name"
   ]
  },
  {
   "cell_type": "code",
   "execution_count": null,
   "metadata": {},
   "outputs": [],
   "source": []
  }
 ],
 "metadata": {
  "kernelspec": {
   "display_name": "Python 3",
   "language": "python",
   "name": "python3"
  },
  "language_info": {
   "codemirror_mode": {
    "name": "ipython",
    "version": 3
   },
   "file_extension": ".py",
   "mimetype": "text/x-python",
   "name": "python",
   "nbconvert_exporter": "python",
   "pygments_lexer": "ipython3",
   "version": "3.7.3"
  },
  "toc": {
   "base_numbering": 1,
   "nav_menu": {},
   "number_sections": true,
   "sideBar": true,
   "skip_h1_title": false,
   "title_cell": "Table of Contents",
   "title_sidebar": "Contents",
   "toc_cell": false,
   "toc_position": {},
   "toc_section_display": true,
   "toc_window_display": false
  }
 },
 "nbformat": 4,
 "nbformat_minor": 2
}
